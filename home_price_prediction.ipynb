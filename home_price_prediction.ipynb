{
 "cells": [
  {
   "cell_type": "code",
   "execution_count": 26,
   "id": "4ff8bebc",
   "metadata": {},
   "outputs": [],
   "source": [
    "import pandas as pd\n",
    "import numpy as np\n",
    "from matplotlib import pyplot as plt\n",
    "from sklearn.model_selection import train_test_split\n",
    "from sklearn.linear_model import LinearRegression\n",
    "from sklearn.model_selection import cross_val_score\n",
    "from sklearn.metrics import mean_squared_error"
   ]
  },
  {
   "cell_type": "code",
   "execution_count": 2,
   "id": "37c25230",
   "metadata": {},
   "outputs": [],
   "source": [
    "df = pd.read_excel('niavaran.xlsx')"
   ]
  },
  {
   "cell_type": "code",
   "execution_count": 3,
   "id": "3819333c",
   "metadata": {},
   "outputs": [
    {
     "data": {
      "text/html": [
       "<div>\n",
       "<style scoped>\n",
       "    .dataframe tbody tr th:only-of-type {\n",
       "        vertical-align: middle;\n",
       "    }\n",
       "\n",
       "    .dataframe tbody tr th {\n",
       "        vertical-align: top;\n",
       "    }\n",
       "\n",
       "    .dataframe thead th {\n",
       "        text-align: right;\n",
       "    }\n",
       "</style>\n",
       "<table border=\"1\" class=\"dataframe\">\n",
       "  <thead>\n",
       "    <tr style=\"text-align: right;\">\n",
       "      <th></th>\n",
       "      <th>Unnamed: 0</th>\n",
       "      <th>زمان انتشار</th>\n",
       "      <th>تاريخ انتشار</th>\n",
       "      <th>سایت</th>\n",
       "      <th>شناسه آگهی</th>\n",
       "      <th>عنوان</th>\n",
       "      <th>آگهی دهنده</th>\n",
       "      <th>نوع کاربر</th>\n",
       "      <th>نوع ملک</th>\n",
       "      <th>پارکینگ</th>\n",
       "      <th>...</th>\n",
       "      <th>آسانسور</th>\n",
       "      <th>قیمت هر متر</th>\n",
       "      <th>قيمت کل</th>\n",
       "      <th>رنج قيمت</th>\n",
       "      <th>توضيحات</th>\n",
       "      <th>لينک تصاوير</th>\n",
       "      <th>مشاور آگهی</th>\n",
       "      <th>شماره تماس</th>\n",
       "      <th>محدوده</th>\n",
       "      <th>مختصات جغرافیایی</th>\n",
       "    </tr>\n",
       "  </thead>\n",
       "  <tbody>\n",
       "    <tr>\n",
       "      <th>0</th>\n",
       "      <td>1</td>\n",
       "      <td>21:28:08</td>\n",
       "      <td>2022-02-24</td>\n",
       "      <td>دیوار</td>\n",
       "      <td>gYTQ804U</td>\n",
       "      <td>فروش آپارتمان104متری خوش نقشه داراباد</td>\n",
       "      <td>NaN</td>\n",
       "      <td>NaN</td>\n",
       "      <td>آپارتمان</td>\n",
       "      <td>1</td>\n",
       "      <td>...</td>\n",
       "      <td>1</td>\n",
       "      <td>48077000</td>\n",
       "      <td>5000000000</td>\n",
       "      <td>5 - 6</td>\n",
       "      <td>فروش آپارتمان104متری _ لوکیشن خوب داراباد\\n _ ...</td>\n",
       "      <td>https://s100.divarcdn.com/static/pictures/1645...</td>\n",
       "      <td>NaN</td>\n",
       "      <td>NaN</td>\n",
       "      <td>نیاوران</td>\n",
       "      <td>NaN</td>\n",
       "    </tr>\n",
       "    <tr>\n",
       "      <th>1</th>\n",
       "      <td>2</td>\n",
       "      <td>21:18:08</td>\n",
       "      <td>2022-02-24</td>\n",
       "      <td>دیوار</td>\n",
       "      <td>QYIXX3l3</td>\n",
       "      <td>۱۰۸ متری نیاوران</td>\n",
       "      <td>مسکن مانا(شعبه اطلس مال)</td>\n",
       "      <td>مشاور</td>\n",
       "      <td>آپارتمان</td>\n",
       "      <td>1</td>\n",
       "      <td>...</td>\n",
       "      <td>1</td>\n",
       "      <td>78704000</td>\n",
       "      <td>8500000000</td>\n",
       "      <td>8 - 9</td>\n",
       "      <td>⚜️ مشاورین املاک مانا⚜️\\n    \\n➖➖➖➖➖➖➖➖➖➖➖➖➖➖➖...</td>\n",
       "      <td>https://s100.divarcdn.com/static/pictures/1645...</td>\n",
       "      <td>NaN</td>\n",
       "      <td>NaN</td>\n",
       "      <td>نیاوران</td>\n",
       "      <td>NaN</td>\n",
       "    </tr>\n",
       "    <tr>\n",
       "      <th>2</th>\n",
       "      <td>3</td>\n",
       "      <td>21:18:10</td>\n",
       "      <td>2022-02-24</td>\n",
       "      <td>دیوار</td>\n",
       "      <td>QYfHRBag</td>\n",
       "      <td>فروش آپارتمان130متری نوساز تراس چیدمان خداوردی</td>\n",
       "      <td>NaN</td>\n",
       "      <td>NaN</td>\n",
       "      <td>آپارتمان</td>\n",
       "      <td>1</td>\n",
       "      <td>...</td>\n",
       "      <td>1</td>\n",
       "      <td>107692000</td>\n",
       "      <td>14000000000</td>\n",
       "      <td>14 - 15</td>\n",
       "      <td>فروش آپارتمان130متری _ لوکیشن دنج خداوردی\\nقوی...</td>\n",
       "      <td>https://s100.divarcdn.com/static/pictures/1645...</td>\n",
       "      <td>NaN</td>\n",
       "      <td>NaN</td>\n",
       "      <td>نیاوران</td>\n",
       "      <td>NaN</td>\n",
       "    </tr>\n",
       "    <tr>\n",
       "      <th>3</th>\n",
       "      <td>4</td>\n",
       "      <td>21:03:11</td>\n",
       "      <td>2022-02-24</td>\n",
       "      <td>دیوار</td>\n",
       "      <td>gYT88_iT</td>\n",
       "      <td>فروش آپارتمان202متری خوش نقشه فول 2p سپند منجیل</td>\n",
       "      <td>NaN</td>\n",
       "      <td>NaN</td>\n",
       "      <td>آپارتمان</td>\n",
       "      <td>1</td>\n",
       "      <td>...</td>\n",
       "      <td>1</td>\n",
       "      <td>73267000</td>\n",
       "      <td>14800000000</td>\n",
       "      <td>14 - 15</td>\n",
       "      <td>فروش آپارتمان202متری تکواحدی _ لوکیشن فیروزبخش...</td>\n",
       "      <td>https://s100.divarcdn.com/static/pictures/1645...</td>\n",
       "      <td>NaN</td>\n",
       "      <td>NaN</td>\n",
       "      <td>نیاوران</td>\n",
       "      <td>NaN</td>\n",
       "    </tr>\n",
       "    <tr>\n",
       "      <th>4</th>\n",
       "      <td>5</td>\n",
       "      <td>21:03:12</td>\n",
       "      <td>2022-02-24</td>\n",
       "      <td>دیوار</td>\n",
       "      <td>gYXsLfG-</td>\n",
       "      <td>نیاوران گلسنگ۱۹۵مترتکواحدی فول امکانات</td>\n",
       "      <td>كامرانيه</td>\n",
       "      <td>مشاور</td>\n",
       "      <td>آپارتمان</td>\n",
       "      <td>1</td>\n",
       "      <td>...</td>\n",
       "      <td>1</td>\n",
       "      <td>80000000</td>\n",
       "      <td>15600000000</td>\n",
       "      <td>15 - 16</td>\n",
       "      <td>تکواحدی\\n\\nتراس قابل چیدمان\\n\\nفرعی دنج ومشجر\\...</td>\n",
       "      <td>https://s100.divarcdn.com/static/pictures/1645...</td>\n",
       "      <td>NaN</td>\n",
       "      <td>NaN</td>\n",
       "      <td>نیاوران</td>\n",
       "      <td>NaN</td>\n",
       "    </tr>\n",
       "  </tbody>\n",
       "</table>\n",
       "<p>5 rows × 25 columns</p>\n",
       "</div>"
      ],
      "text/plain": [
       "   Unnamed: 0 زمان انتشار تاريخ انتشار   سایت شناسه آگهی  \\\n",
       "0           1    21:28:08   2022-02-24  دیوار   gYTQ804U   \n",
       "1           2    21:18:08   2022-02-24  دیوار   QYIXX3l3   \n",
       "2           3    21:18:10   2022-02-24  دیوار   QYfHRBag   \n",
       "3           4    21:03:11   2022-02-24  دیوار   gYT88_iT   \n",
       "4           5    21:03:12   2022-02-24  دیوار   gYXsLfG-   \n",
       "\n",
       "                                             عنوان                آگهی دهنده  \\\n",
       "0            فروش آپارتمان104متری خوش نقشه داراباد                       NaN   \n",
       "1                                 ۱۰۸ متری نیاوران  مسکن مانا(شعبه اطلس مال)   \n",
       "2   فروش آپارتمان130متری نوساز تراس چیدمان خداوردی                       NaN   \n",
       "3  فروش آپارتمان202متری خوش نقشه فول 2p سپند منجیل                       NaN   \n",
       "4           نیاوران گلسنگ۱۹۵مترتکواحدی فول امکانات                  كامرانيه   \n",
       "\n",
       "  نوع کاربر   نوع ملک  پارکینگ  ...  آسانسور  قیمت هر متر      قيمت کل  \\\n",
       "0       NaN  آپارتمان        1  ...        1     48077000   5000000000   \n",
       "1     مشاور  آپارتمان        1  ...        1     78704000   8500000000   \n",
       "2       NaN  آپارتمان        1  ...        1    107692000  14000000000   \n",
       "3       NaN  آپارتمان        1  ...        1     73267000  14800000000   \n",
       "4     مشاور  آپارتمان        1  ...        1     80000000  15600000000   \n",
       "\n",
       "   رنج قيمت                                            توضيحات  \\\n",
       "0     5 - 6  فروش آپارتمان104متری _ لوکیشن خوب داراباد\\n _ ...   \n",
       "1     8 - 9  ⚜️ مشاورین املاک مانا⚜️\\n    \\n➖➖➖➖➖➖➖➖➖➖➖➖➖➖➖...   \n",
       "2   14 - 15  فروش آپارتمان130متری _ لوکیشن دنج خداوردی\\nقوی...   \n",
       "3   14 - 15  فروش آپارتمان202متری تکواحدی _ لوکیشن فیروزبخش...   \n",
       "4   15 - 16  تکواحدی\\n\\nتراس قابل چیدمان\\n\\nفرعی دنج ومشجر\\...   \n",
       "\n",
       "                                         لينک تصاوير مشاور آگهی شماره تماس  \\\n",
       "0  https://s100.divarcdn.com/static/pictures/1645...        NaN        NaN   \n",
       "1  https://s100.divarcdn.com/static/pictures/1645...        NaN        NaN   \n",
       "2  https://s100.divarcdn.com/static/pictures/1645...        NaN        NaN   \n",
       "3  https://s100.divarcdn.com/static/pictures/1645...        NaN        NaN   \n",
       "4  https://s100.divarcdn.com/static/pictures/1645...        NaN        NaN   \n",
       "\n",
       "    محدوده مختصات جغرافیایی  \n",
       "0  نیاوران              NaN  \n",
       "1  نیاوران              NaN  \n",
       "2  نیاوران              NaN  \n",
       "3  نیاوران              NaN  \n",
       "4  نیاوران              NaN  \n",
       "\n",
       "[5 rows x 25 columns]"
      ]
     },
     "execution_count": 3,
     "metadata": {},
     "output_type": "execute_result"
    }
   ],
   "source": [
    "df.head()"
   ]
  },
  {
   "cell_type": "code",
   "execution_count": 4,
   "id": "1d74bdb9",
   "metadata": {},
   "outputs": [
    {
     "data": {
      "text/plain": [
       "['Unnamed: 0',\n",
       " 'زمان انتشار',\n",
       " 'تاريخ انتشار',\n",
       " 'سایت',\n",
       " 'شناسه آگهی',\n",
       " 'عنوان',\n",
       " 'آگهی دهنده',\n",
       " 'نوع کاربر',\n",
       " 'نوع ملک',\n",
       " 'پارکینگ',\n",
       " 'تعداد اتاق',\n",
       " 'متراژ',\n",
       " 'انباری',\n",
       " 'سال ساخت',\n",
       " 'سن بنا',\n",
       " 'آسانسور',\n",
       " 'قیمت هر متر',\n",
       " 'قيمت کل',\n",
       " 'رنج قيمت',\n",
       " 'توضيحات',\n",
       " 'لينک تصاوير',\n",
       " 'مشاور آگهی',\n",
       " 'شماره تماس',\n",
       " 'محدوده',\n",
       " 'مختصات جغرافیایی']"
      ]
     },
     "execution_count": 4,
     "metadata": {},
     "output_type": "execute_result"
    }
   ],
   "source": [
    "# اسم ستون‌های موجود در دیتاست\n",
    "df.columns.values.tolist()"
   ]
  },
  {
   "cell_type": "code",
   "execution_count": 5,
   "id": "f8c9da71",
   "metadata": {},
   "outputs": [],
   "source": [
    "# حذف ستون‌های اضافی\n",
    "df.drop(['زمان انتشار', 'شناسه آگهی', 'عنوان', 'نوع کاربر', 'سال ساخت', 'قیمت هر متر', 'توضيحات', 'لينک تصاوير', 'مشاور آگهی', 'شماره تماس', 'محدوده', 'تاريخ انتشار', 'رنج قيمت', 'نوع ملک', 'آگهی دهنده', 'مختصات جغرافیایی', 'Unnamed: 0', 'سایت'], axis=1, inplace=True)\n",
    "# حذف جدا کننده هزارگان در ستون قیمت کل، تبدیل آن به عدد صحیح و تقسیم بر یک میلیارد\n",
    "df['قيمت کل'] = df['قيمت کل'].apply(lambda x: int(x.replace(',', ''))/1000000000)"
   ]
  },
  {
   "cell_type": "code",
   "execution_count": 6,
   "id": "abc08017",
   "metadata": {},
   "outputs": [
    {
     "data": {
      "text/html": [
       "<div>\n",
       "<style scoped>\n",
       "    .dataframe tbody tr th:only-of-type {\n",
       "        vertical-align: middle;\n",
       "    }\n",
       "\n",
       "    .dataframe tbody tr th {\n",
       "        vertical-align: top;\n",
       "    }\n",
       "\n",
       "    .dataframe thead th {\n",
       "        text-align: right;\n",
       "    }\n",
       "</style>\n",
       "<table border=\"1\" class=\"dataframe\">\n",
       "  <thead>\n",
       "    <tr style=\"text-align: right;\">\n",
       "      <th></th>\n",
       "      <th>پارکینگ</th>\n",
       "      <th>تعداد اتاق</th>\n",
       "      <th>متراژ</th>\n",
       "      <th>انباری</th>\n",
       "      <th>سن بنا</th>\n",
       "      <th>آسانسور</th>\n",
       "      <th>قيمت کل</th>\n",
       "    </tr>\n",
       "  </thead>\n",
       "  <tbody>\n",
       "    <tr>\n",
       "      <th>0</th>\n",
       "      <td>1</td>\n",
       "      <td>2</td>\n",
       "      <td>104</td>\n",
       "      <td>1</td>\n",
       "      <td>7</td>\n",
       "      <td>1</td>\n",
       "      <td>5.0</td>\n",
       "    </tr>\n",
       "    <tr>\n",
       "      <th>1</th>\n",
       "      <td>1</td>\n",
       "      <td>2</td>\n",
       "      <td>108</td>\n",
       "      <td>1</td>\n",
       "      <td>6</td>\n",
       "      <td>1</td>\n",
       "      <td>8.5</td>\n",
       "    </tr>\n",
       "    <tr>\n",
       "      <th>2</th>\n",
       "      <td>1</td>\n",
       "      <td>3</td>\n",
       "      <td>130</td>\n",
       "      <td>1</td>\n",
       "      <td>0</td>\n",
       "      <td>1</td>\n",
       "      <td>14.0</td>\n",
       "    </tr>\n",
       "    <tr>\n",
       "      <th>3</th>\n",
       "      <td>1</td>\n",
       "      <td>3</td>\n",
       "      <td>202</td>\n",
       "      <td>1</td>\n",
       "      <td>9</td>\n",
       "      <td>1</td>\n",
       "      <td>14.8</td>\n",
       "    </tr>\n",
       "    <tr>\n",
       "      <th>4</th>\n",
       "      <td>1</td>\n",
       "      <td>3</td>\n",
       "      <td>195</td>\n",
       "      <td>1</td>\n",
       "      <td>15</td>\n",
       "      <td>1</td>\n",
       "      <td>15.6</td>\n",
       "    </tr>\n",
       "    <tr>\n",
       "      <th>...</th>\n",
       "      <td>...</td>\n",
       "      <td>...</td>\n",
       "      <td>...</td>\n",
       "      <td>...</td>\n",
       "      <td>...</td>\n",
       "      <td>...</td>\n",
       "      <td>...</td>\n",
       "    </tr>\n",
       "    <tr>\n",
       "      <th>495</th>\n",
       "      <td>1</td>\n",
       "      <td>3</td>\n",
       "      <td>204</td>\n",
       "      <td>1</td>\n",
       "      <td>1</td>\n",
       "      <td>1</td>\n",
       "      <td>24.8</td>\n",
       "    </tr>\n",
       "    <tr>\n",
       "      <th>496</th>\n",
       "      <td>1</td>\n",
       "      <td>4</td>\n",
       "      <td>235</td>\n",
       "      <td>1</td>\n",
       "      <td>0</td>\n",
       "      <td>1</td>\n",
       "      <td>32.9</td>\n",
       "    </tr>\n",
       "    <tr>\n",
       "      <th>497</th>\n",
       "      <td>1</td>\n",
       "      <td>3</td>\n",
       "      <td>198</td>\n",
       "      <td>1</td>\n",
       "      <td>12</td>\n",
       "      <td>1</td>\n",
       "      <td>16.5</td>\n",
       "    </tr>\n",
       "    <tr>\n",
       "      <th>498</th>\n",
       "      <td>1</td>\n",
       "      <td>2</td>\n",
       "      <td>130</td>\n",
       "      <td>1</td>\n",
       "      <td>1</td>\n",
       "      <td>1</td>\n",
       "      <td>12.7</td>\n",
       "    </tr>\n",
       "    <tr>\n",
       "      <th>499</th>\n",
       "      <td>1</td>\n",
       "      <td>2</td>\n",
       "      <td>105</td>\n",
       "      <td>1</td>\n",
       "      <td>14</td>\n",
       "      <td>1</td>\n",
       "      <td>7.3</td>\n",
       "    </tr>\n",
       "  </tbody>\n",
       "</table>\n",
       "<p>500 rows × 7 columns</p>\n",
       "</div>"
      ],
      "text/plain": [
       "     پارکینگ  تعداد اتاق  متراژ  انباری  سن بنا  آسانسور  قيمت کل\n",
       "0          1           2    104       1       7        1      5.0\n",
       "1          1           2    108       1       6        1      8.5\n",
       "2          1           3    130       1       0        1     14.0\n",
       "3          1           3    202       1       9        1     14.8\n",
       "4          1           3    195       1      15        1     15.6\n",
       "..       ...         ...    ...     ...     ...      ...      ...\n",
       "495        1           3    204       1       1        1     24.8\n",
       "496        1           4    235       1       0        1     32.9\n",
       "497        1           3    198       1      12        1     16.5\n",
       "498        1           2    130       1       1        1     12.7\n",
       "499        1           2    105       1      14        1      7.3\n",
       "\n",
       "[500 rows x 7 columns]"
      ]
     },
     "execution_count": 6,
     "metadata": {},
     "output_type": "execute_result"
    }
   ],
   "source": [
    "# شکل جدید دیتافریم\n",
    "df"
   ]
  },
  {
   "cell_type": "code",
   "execution_count": 7,
   "id": "4e4becca",
   "metadata": {},
   "outputs": [
    {
     "data": {
      "text/html": [
       "<div>\n",
       "<style scoped>\n",
       "    .dataframe tbody tr th:only-of-type {\n",
       "        vertical-align: middle;\n",
       "    }\n",
       "\n",
       "    .dataframe tbody tr th {\n",
       "        vertical-align: top;\n",
       "    }\n",
       "\n",
       "    .dataframe thead th {\n",
       "        text-align: right;\n",
       "    }\n",
       "</style>\n",
       "<table border=\"1\" class=\"dataframe\">\n",
       "  <thead>\n",
       "    <tr style=\"text-align: right;\">\n",
       "      <th></th>\n",
       "      <th>پارکینگ</th>\n",
       "      <th>تعداد اتاق</th>\n",
       "      <th>متراژ</th>\n",
       "      <th>انباری</th>\n",
       "      <th>سن بنا</th>\n",
       "      <th>آسانسور</th>\n",
       "      <th>قيمت کل</th>\n",
       "    </tr>\n",
       "  </thead>\n",
       "  <tbody>\n",
       "    <tr>\n",
       "      <th>count</th>\n",
       "      <td>500.000000</td>\n",
       "      <td>500.000000</td>\n",
       "      <td>500.000000</td>\n",
       "      <td>500.000000</td>\n",
       "      <td>500.000000</td>\n",
       "      <td>500.00000</td>\n",
       "      <td>500.000000</td>\n",
       "    </tr>\n",
       "    <tr>\n",
       "      <th>mean</th>\n",
       "      <td>0.992000</td>\n",
       "      <td>2.764000</td>\n",
       "      <td>173.158000</td>\n",
       "      <td>0.988000</td>\n",
       "      <td>6.214000</td>\n",
       "      <td>0.98000</td>\n",
       "      <td>17.650360</td>\n",
       "    </tr>\n",
       "    <tr>\n",
       "      <th>std</th>\n",
       "      <td>0.089173</td>\n",
       "      <td>0.687932</td>\n",
       "      <td>71.343653</td>\n",
       "      <td>0.108994</td>\n",
       "      <td>5.944989</td>\n",
       "      <td>0.14014</td>\n",
       "      <td>12.542619</td>\n",
       "    </tr>\n",
       "    <tr>\n",
       "      <th>min</th>\n",
       "      <td>0.000000</td>\n",
       "      <td>1.000000</td>\n",
       "      <td>40.000000</td>\n",
       "      <td>0.000000</td>\n",
       "      <td>0.000000</td>\n",
       "      <td>0.00000</td>\n",
       "      <td>1.200000</td>\n",
       "    </tr>\n",
       "    <tr>\n",
       "      <th>25%</th>\n",
       "      <td>1.000000</td>\n",
       "      <td>2.000000</td>\n",
       "      <td>121.500000</td>\n",
       "      <td>1.000000</td>\n",
       "      <td>1.000000</td>\n",
       "      <td>1.00000</td>\n",
       "      <td>8.718750</td>\n",
       "    </tr>\n",
       "    <tr>\n",
       "      <th>50%</th>\n",
       "      <td>1.000000</td>\n",
       "      <td>3.000000</td>\n",
       "      <td>164.000000</td>\n",
       "      <td>1.000000</td>\n",
       "      <td>4.000000</td>\n",
       "      <td>1.00000</td>\n",
       "      <td>14.000000</td>\n",
       "    </tr>\n",
       "    <tr>\n",
       "      <th>75%</th>\n",
       "      <td>1.000000</td>\n",
       "      <td>3.000000</td>\n",
       "      <td>210.000000</td>\n",
       "      <td>1.000000</td>\n",
       "      <td>11.000000</td>\n",
       "      <td>1.00000</td>\n",
       "      <td>21.062500</td>\n",
       "    </tr>\n",
       "    <tr>\n",
       "      <th>max</th>\n",
       "      <td>1.000000</td>\n",
       "      <td>5.000000</td>\n",
       "      <td>600.000000</td>\n",
       "      <td>1.000000</td>\n",
       "      <td>29.000000</td>\n",
       "      <td>1.00000</td>\n",
       "      <td>88.000000</td>\n",
       "    </tr>\n",
       "  </tbody>\n",
       "</table>\n",
       "</div>"
      ],
      "text/plain": [
       "          پارکینگ  تعداد اتاق       متراژ      انباری      سن بنا    آسانسور  \\\n",
       "count  500.000000  500.000000  500.000000  500.000000  500.000000  500.00000   \n",
       "mean     0.992000    2.764000  173.158000    0.988000    6.214000    0.98000   \n",
       "std      0.089173    0.687932   71.343653    0.108994    5.944989    0.14014   \n",
       "min      0.000000    1.000000   40.000000    0.000000    0.000000    0.00000   \n",
       "25%      1.000000    2.000000  121.500000    1.000000    1.000000    1.00000   \n",
       "50%      1.000000    3.000000  164.000000    1.000000    4.000000    1.00000   \n",
       "75%      1.000000    3.000000  210.000000    1.000000   11.000000    1.00000   \n",
       "max      1.000000    5.000000  600.000000    1.000000   29.000000    1.00000   \n",
       "\n",
       "          قيمت کل  \n",
       "count  500.000000  \n",
       "mean    17.650360  \n",
       "std     12.542619  \n",
       "min      1.200000  \n",
       "25%      8.718750  \n",
       "50%     14.000000  \n",
       "75%     21.062500  \n",
       "max     88.000000  "
      ]
     },
     "execution_count": 7,
     "metadata": {},
     "output_type": "execute_result"
    }
   ],
   "source": [
    "# اطلاعات آماری دیتاست\n",
    "df.describe()"
   ]
  },
  {
   "cell_type": "code",
   "execution_count": 8,
   "id": "4ac518ab",
   "metadata": {},
   "outputs": [
    {
     "data": {
      "text/plain": [
       "پارکینگ        0.0\n",
       "تعداد اتاق     1.0\n",
       "متراژ         75.0\n",
       "انباری         0.0\n",
       "سن بنا         2.0\n",
       "آسانسور        1.0\n",
       "قيمت کل        1.2\n",
       "Name: 35, dtype: float64"
      ]
     },
     "execution_count": 8,
     "metadata": {},
     "output_type": "execute_result"
    }
   ],
   "source": [
    "# مشخصات ارزانترین آپارتمان موجود در دیتاست\n",
    "df.iloc[df['قيمت کل'].idxmin()]"
   ]
  },
  {
   "cell_type": "code",
   "execution_count": 9,
   "id": "4f34b1eb",
   "metadata": {},
   "outputs": [
    {
     "data": {
      "text/plain": [
       "پارکینگ         1.0\n",
       "تعداد اتاق      4.0\n",
       "متراژ         400.0\n",
       "انباری          1.0\n",
       "سن بنا          0.0\n",
       "آسانسور         1.0\n",
       "قيمت کل        88.0\n",
       "Name: 444, dtype: float64"
      ]
     },
     "execution_count": 9,
     "metadata": {},
     "output_type": "execute_result"
    }
   ],
   "source": [
    "# مشخصات گرانترین آپارتمان موجود در دیتاست\n",
    "df.iloc[df['قيمت کل'].idxmax()]"
   ]
  },
  {
   "cell_type": "code",
   "execution_count": 41,
   "id": "7fb3c82d",
   "metadata": {},
   "outputs": [
    {
     "data": {
      "text/plain": [
       "(0.0, 90.0)"
      ]
     },
     "execution_count": 41,
     "metadata": {},
     "output_type": "execute_result"
    },
    {
     "data": {
      "image/png": "[encoded data removed]",
      "text/plain": [
       "<Figure size 432x288 with 1 Axes>"
      ]
     },
     "metadata": {
      "needs_background": "light"
     },
     "output_type": "display_data"
    }
   ],
   "source": [
    "# (به میلیارد تومان) هیستوگرام ستون قیمت کل\n",
    "df['قيمت کل'].apply(lambda x: x).hist().set_xlim((0,90))"
   ]
  },
  {
   "cell_type": "code",
   "execution_count": 10,
   "id": "ae0f2a16",
   "metadata": {},
   "outputs": [],
   "source": [
    "# ذخیره جداگانه ویژگی‌ها و هدف در دو متغیر\n",
    "X = df.drop(['قيمت کل'],axis=1)\n",
    "y = df['قيمت کل']"
   ]
  },
  {
   "cell_type": "code",
   "execution_count": 12,
   "id": "b6697ba6",
   "metadata": {},
   "outputs": [],
   "source": [
    "# تقسیم داده به بخش‌های آموزش و تست\n",
    "X_train,X_test,y_train,y_test = train_test_split(X,y,test_size=0.2)"
   ]
  },
  {
   "cell_type": "code",
   "execution_count": 13,
   "id": "f7d97c5a",
   "metadata": {},
   "outputs": [],
   "source": [
    "# (رگرسیون خطی) ایجاد یک شی از مدل یادگیری ماشین\n",
    "reg = LinearRegression()"
   ]
  },
  {
   "cell_type": "code",
   "execution_count": 14,
   "id": "dd71376e",
   "metadata": {},
   "outputs": [
    {
     "data": {
      "text/plain": [
       "LinearRegression()"
      ]
     },
     "execution_count": 14,
     "metadata": {},
     "output_type": "execute_result"
    }
   ],
   "source": [
    "# آموزش مدل با داده مخصوص آموزش\n",
    "reg.fit(X_train, y_train)"
   ]
  },
  {
   "cell_type": "code",
   "execution_count": 15,
   "id": "9ef2deb8",
   "metadata": {},
   "outputs": [
    {
     "data": {
      "text/plain": [
       "array([ 4.15253415,  0.93182161,  0.13062176, -5.82632066, -0.60085759,\n",
       "       -5.7933645 ])"
      ]
     },
     "execution_count": 15,
     "metadata": {},
     "output_type": "execute_result"
    }
   ],
   "source": [
    "# ضرایب هر ویژگی در فرمول رگرسیون\n",
    "reg.coef_"
   ]
  },
  {
   "cell_type": "code",
   "execution_count": 16,
   "id": "011cf698",
   "metadata": {},
   "outputs": [],
   "source": [
    "# پیشبینی قیمت کل در نمونه‌های تست با استفاده از مدل آموزش یافته\n",
    "y_pred = reg.predict(X_test)"
   ]
  },
  {
   "cell_type": "code",
   "execution_count": 18,
   "id": "1ae991c3",
   "metadata": {},
   "outputs": [
    {
     "data": {
      "text/plain": [
       "array([11.07934177, 10.23474759, 20.60608032, 22.25191201, 18.15039873,\n",
       "       17.28828507, 14.23175843, 17.10543719,  4.02579175, 38.46647973,\n",
       "        3.26819306,  5.93287951,  6.27248103, -0.9378101 ,  3.21592929,\n",
       "       37.4307483 , 14.88485469, 10.58298661, 28.20828693, 14.88485469,\n",
       "       12.38555939,  1.90971168, 17.57566047, 11.22745792,  2.92859154,\n",
       "       11.7847018 , 18.02842702, 26.51021658,  7.83130466,  2.06647787,\n",
       "       15.04159579, 11.23609542,  3.32044427, 18.01113947, 18.6467539 ,\n",
       "        9.82537537, 20.37098123, 16.95732105, 23.81937315, 11.7847018 ,\n",
       "       17.65404357,  4.9003859 , 14.34547842, 19.2998627 ,  9.74702993,\n",
       "       17.37531822, 15.79920702,  8.07505381, 17.86304843, 14.86739796,\n",
       "       35.02672532, 11.48871399, 11.3319729 , 22.33032021, 23.47113413,\n",
       "       26.37955717, 16.60908203, 32.69300289,  3.1375964 , 15.92981623,\n",
       "       12.77743723, 17.88914266,  6.32473224, 76.18139946, 10.46987178,\n",
       "       20.8673364 , 17.70629478,  6.96920355, 20.8673364 , 15.68607964,\n",
       "        7.23907202, 18.21188005, 20.63222475,  3.5816878 , 13.0386682 ,\n",
       "       20.00522273,  4.96626341, 18.26353866, -6.20628172, 12.16791703,\n",
       "       21.40730527, 24.994969  , 19.87460097, 19.24761149, 25.72644836,\n",
       "       12.69042918,  4.80950977, 16.30421224, 10.13887011, 24.9079484 ,\n",
       "       23.11401312, 25.17784198,  8.62366019, 25.33459562,  8.44079976,\n",
       "       12.24632523,  5.46261857, -0.9378101 , 29.80185485,  0.10094487])"
      ]
     },
     "execution_count": 18,
     "metadata": {},
     "output_type": "execute_result"
    }
   ],
   "source": [
    "# (به میلیارد تومان) نتایج پیشبینی\n",
    "y_pred\n"
   ]
  },
  {
   "cell_type": "code",
   "execution_count": 19,
   "id": "fb272b6d",
   "metadata": {},
   "outputs": [
    {
     "data": {
      "text/html": [
       "<div>\n",
       "<style scoped>\n",
       "    .dataframe tbody tr th:only-of-type {\n",
       "        vertical-align: middle;\n",
       "    }\n",
       "\n",
       "    .dataframe tbody tr th {\n",
       "        vertical-align: top;\n",
       "    }\n",
       "\n",
       "    .dataframe thead th {\n",
       "        text-align: right;\n",
       "    }\n",
       "</style>\n",
       "<table border=\"1\" class=\"dataframe\">\n",
       "  <thead>\n",
       "    <tr style=\"text-align: right;\">\n",
       "      <th></th>\n",
       "      <th>پارکینگ</th>\n",
       "      <th>تعداد اتاق</th>\n",
       "      <th>متراژ</th>\n",
       "      <th>انباری</th>\n",
       "      <th>سن بنا</th>\n",
       "      <th>آسانسور</th>\n",
       "      <th>تخمین قیمت</th>\n",
       "    </tr>\n",
       "  </thead>\n",
       "  <tbody>\n",
       "    <tr>\n",
       "      <th>0</th>\n",
       "      <td>1</td>\n",
       "      <td>2</td>\n",
       "      <td>100</td>\n",
       "      <td>1</td>\n",
       "      <td>0</td>\n",
       "      <td>1</td>\n",
       "      <td>11.079342</td>\n",
       "    </tr>\n",
       "    <tr>\n",
       "      <th>1</th>\n",
       "      <td>1</td>\n",
       "      <td>3</td>\n",
       "      <td>160</td>\n",
       "      <td>1</td>\n",
       "      <td>16</td>\n",
       "      <td>1</td>\n",
       "      <td>10.234748</td>\n",
       "    </tr>\n",
       "    <tr>\n",
       "      <th>2</th>\n",
       "      <td>1</td>\n",
       "      <td>3</td>\n",
       "      <td>175</td>\n",
       "      <td>1</td>\n",
       "      <td>2</td>\n",
       "      <td>1</td>\n",
       "      <td>20.606080</td>\n",
       "    </tr>\n",
       "    <tr>\n",
       "      <th>3</th>\n",
       "      <td>1</td>\n",
       "      <td>3</td>\n",
       "      <td>183</td>\n",
       "      <td>1</td>\n",
       "      <td>1</td>\n",
       "      <td>1</td>\n",
       "      <td>22.251912</td>\n",
       "    </tr>\n",
       "    <tr>\n",
       "      <th>4</th>\n",
       "      <td>1</td>\n",
       "      <td>3</td>\n",
       "      <td>170</td>\n",
       "      <td>1</td>\n",
       "      <td>5</td>\n",
       "      <td>1</td>\n",
       "      <td>18.150399</td>\n",
       "    </tr>\n",
       "    <tr>\n",
       "      <th>...</th>\n",
       "      <td>...</td>\n",
       "      <td>...</td>\n",
       "      <td>...</td>\n",
       "      <td>...</td>\n",
       "      <td>...</td>\n",
       "      <td>...</td>\n",
       "      <td>...</td>\n",
       "    </tr>\n",
       "    <tr>\n",
       "      <th>95</th>\n",
       "      <td>1</td>\n",
       "      <td>3</td>\n",
       "      <td>180</td>\n",
       "      <td>1</td>\n",
       "      <td>17</td>\n",
       "      <td>1</td>\n",
       "      <td>12.246325</td>\n",
       "    </tr>\n",
       "    <tr>\n",
       "      <th>96</th>\n",
       "      <td>1</td>\n",
       "      <td>2</td>\n",
       "      <td>80</td>\n",
       "      <td>1</td>\n",
       "      <td>5</td>\n",
       "      <td>1</td>\n",
       "      <td>5.462619</td>\n",
       "    </tr>\n",
       "    <tr>\n",
       "      <th>97</th>\n",
       "      <td>1</td>\n",
       "      <td>2</td>\n",
       "      <td>100</td>\n",
       "      <td>1</td>\n",
       "      <td>20</td>\n",
       "      <td>1</td>\n",
       "      <td>-0.937810</td>\n",
       "    </tr>\n",
       "    <tr>\n",
       "      <th>98</th>\n",
       "      <td>1</td>\n",
       "      <td>3</td>\n",
       "      <td>250</td>\n",
       "      <td>1</td>\n",
       "      <td>3</td>\n",
       "      <td>1</td>\n",
       "      <td>29.801855</td>\n",
       "    </tr>\n",
       "    <tr>\n",
       "      <th>99</th>\n",
       "      <td>1</td>\n",
       "      <td>2</td>\n",
       "      <td>105</td>\n",
       "      <td>1</td>\n",
       "      <td>29</td>\n",
       "      <td>0</td>\n",
       "      <td>0.100945</td>\n",
       "    </tr>\n",
       "  </tbody>\n",
       "</table>\n",
       "<p>100 rows × 7 columns</p>\n",
       "</div>"
      ],
      "text/plain": [
       "    پارکینگ  تعداد اتاق  متراژ  انباری  سن بنا  آسانسور  تخمین قیمت\n",
       "0         1           2    100       1       0        1   11.079342\n",
       "1         1           3    160       1      16        1   10.234748\n",
       "2         1           3    175       1       2        1   20.606080\n",
       "3         1           3    183       1       1        1   22.251912\n",
       "4         1           3    170       1       5        1   18.150399\n",
       "..      ...         ...    ...     ...     ...      ...         ...\n",
       "95        1           3    180       1      17        1   12.246325\n",
       "96        1           2     80       1       5        1    5.462619\n",
       "97        1           2    100       1      20        1   -0.937810\n",
       "98        1           3    250       1       3        1   29.801855\n",
       "99        1           2    105       1      29        0    0.100945\n",
       "\n",
       "[100 rows x 7 columns]"
      ]
     },
     "execution_count": 19,
     "metadata": {},
     "output_type": "execute_result"
    }
   ],
   "source": [
    "# تخمین قیمت نمونه‌های تست\n",
    "pd.concat([X_test.reset_index(drop=True),pd.DataFrame({'تخمین قیمت':y_pred})],axis=1)"
   ]
  },
  {
   "cell_type": "code",
   "execution_count": 20,
   "id": "ff85bf8d",
   "metadata": {
    "scrolled": true
   },
   "outputs": [
    {
     "data": {
      "text/plain": [
       "18.698639486324566"
      ]
     },
     "execution_count": 20,
     "metadata": {},
     "output_type": "execute_result"
    }
   ],
   "source": [
    "# loss محاسبه تابع\n",
    "# میانگین مجذور تفاضل‌های مقادیر تخمین زده شده و مقادیر واقعی\n",
    "mean_squared_error(y_test, y_pred)"
   ]
  },
  {
   "cell_type": "code",
   "execution_count": 21,
   "id": "c4e331d4",
   "metadata": {
    "scrolled": false
   },
   "outputs": [
    {
     "name": "stdout",
     "output_type": "stream",
     "text": [
      "80.69324639131894 %\n"
     ]
    }
   ],
   "source": [
    "# محاسبه دقت مدل\n",
    "print(reg.score(X_test,y_test)*100,'%')"
   ]
  },
  {
   "cell_type": "code",
   "execution_count": 22,
   "id": "72fd990c",
   "metadata": {},
   "outputs": [],
   "source": [
    "# چند بار اجرای الگوریتم و ذخیره دقت‌های به دست آمده در یک آرایه\n",
    "scores = cross_val_score(reg, X, y, cv=20)"
   ]
  },
  {
   "cell_type": "code",
   "execution_count": 23,
   "id": "456830cd",
   "metadata": {},
   "outputs": [
    {
     "data": {
      "text/plain": [
       "array([ 0.4982172 , -0.09037731,  0.92411539,  0.37375884,  0.61406427,\n",
       "        0.76215273,  0.80483362,  0.84872471,  0.76123687,  0.5032744 ,\n",
       "        0.80215342,  0.80751714,  0.71259506,  0.20177358,  0.85557756,\n",
       "        0.7586806 ,  0.36651899,  0.76900726,  0.85500594,  0.84332653])"
      ]
     },
     "execution_count": 23,
     "metadata": {},
     "output_type": "execute_result"
    }
   ],
   "source": [
    "# دقت‌های به دست آمده از اجرای چندباره‌ی الگوریتم\n",
    "scores"
   ]
  },
  {
   "cell_type": "code",
   "execution_count": 24,
   "id": "d60aab78",
   "metadata": {},
   "outputs": [
    {
     "data": {
      "text/plain": [
       "0.6486078403285329"
      ]
     },
     "execution_count": 24,
     "metadata": {},
     "output_type": "execute_result"
    }
   ],
   "source": [
    "# میانگین دقت‌های به دست آمده از اجرای چندباره‌ی الگوریتم\n",
    "scores.mean()"
   ]
  },
  {
   "cell_type": "code",
   "execution_count": 25,
   "id": "d00cf9ed",
   "metadata": {},
   "outputs": [
    {
     "data": {
      "text/plain": [
       "array([14.9638555])"
      ]
     },
     "execution_count": 25,
     "metadata": {},
     "output_type": "execute_result"
    }
   ],
   "source": [
    "# (به میلیارد تومان) پیشبینی قیمت آپارتمان با مشخصات زیر \n",
    "reg.predict(\n",
    "    pd.DataFrame.from_dict\n",
    "    ({\n",
    "        \n",
    "        \n",
    "            'پارکینگ':[1],\n",
    "            'تعداد اتاق':[3],\n",
    "            'متراژ':[170],\n",
    "            'انباری':[0],\n",
    "            'سن بنا':[20],\n",
    "            'آسانسور':[1]\n",
    "        \n",
    "        \n",
    "        },orient='columns'))"
   ]
  }
 ],
 "metadata": {
  "kernelspec": {
   "display_name": "Python 3 (ipykernel)",
   "language": "python",
   "name": "python3"
  },
  "language_info": {
   "codemirror_mode": {
    "name": "ipython",
    "version": 3
   },
   "file_extension": ".py",
   "mimetype": "text/x-python",
   "name": "python",
   "nbconvert_exporter": "python",
   "pygments_lexer": "ipython3",
   "version": "3.9.7"
  }
 },
 "nbformat": 4,
 "nbformat_minor": 5
}
